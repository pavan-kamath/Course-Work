{
 "cells": [
  {
   "cell_type": "code",
   "execution_count": null,
   "id": "f4416c1b",
   "metadata": {},
   "outputs": [],
   "source": [
    "import numpy as np\n",
    "from cvxpy import Minimize, multiply, Problem, Variable\n",
    "import cvxpy as cp\n",
    "import cvxopt\n",
    "# Based on formulation described\n",
    "#    @ https://en.wikipedia.org/wiki/Travelling_salesman_problem (February 2016)\n",
    "from scipy.spatial import distance_matrix\n",
    "import math\n",
    "\n",
    "data = np.genfromtxt(\"tsp.txt\", delimiter= ',') \n",
    "data = data[:10]\n",
    "dist = lambda p1, p2: math.sqrt(((p1-p2)**2).sum())\n",
    "dm = np.asarray([[dist(p1, p2) for p2 in data] for p1 in data])\n",
    "np.random.seed(1)\n",
    "data_x = [data[i][0] for i in range(len(data)-1)]\n",
    "data_y = [data[i][1] for i in range (len(data)-1)]\n",
    "data_x, data_y = np.asarray(data_x), np.asarray(data_y)\n",
    "\n",
    "\n",
    "\n",
    "\n",
    "N = 10\n",
    "# VARS\n",
    "x = Variable((N, N), boolean=True)\n",
    "u = Variable(N, integer=True)\n",
    "\n",
    "# CONSTRAINTS\n",
    "constraints = []\n",
    "for j in range(N):\n",
    "    indices = np.hstack((np.arange(0, j), np.arange(j + 1, N)))\n",
    "    constraints.append(sum(x[indices, j]) == 1)\n",
    "for i in range(N):\n",
    "    indices = np.hstack((np.arange(0, i), np.arange(i + 1, N)))\n",
    "    constraints.append(sum(x[i, indices]) == 1)\n",
    "\n",
    "for i in range(1, N):\n",
    "    for j in range(1, N):\n",
    "        if i != j:\n",
    "            constraints.append(u[i] - u[j] + N*x[i, j] <= N-1)\n",
    "\n",
    "# OBJ\n",
    "obj = Minimize(cp.sum(dm@x))\n",
    "\n",
    "# SOLVE\n",
    "prob = Problem(obj, constraints)\n",
    "prob.solve(verbose=True, solver = cvxoptopt.GLPK)\n",
    "print(prob.value)"
   ]
  },
  {
   "cell_type": "code",
   "execution_count": 4,
   "id": "f9d8fe8a",
   "metadata": {},
   "outputs": [
    {
     "name": "stdout",
     "output_type": "stream",
     "text": [
      "Collecting cvxopt\n",
      "  Downloading cvxopt-1.2.7-cp39-cp39-win_amd64.whl (9.5 MB)\n",
      "Installing collected packages: cvxopt\n",
      "Successfully installed cvxopt-1.2.7\n"
     ]
    }
   ],
   "source": [
    "!pip install cvxopt\n"
   ]
  },
  {
   "cell_type": "code",
   "execution_count": 2,
   "id": "aa12ecba",
   "metadata": {},
   "outputs": [
    {
     "name": "stdout",
     "output_type": "stream",
     "text": [
      "Collecting pytsp\n",
      "  Downloading pytsp-0.2.7.tar.gz (20 kB)\n",
      "Building wheels for collected packages: pytsp\n",
      "  Building wheel for pytsp (setup.py): started\n",
      "  Building wheel for pytsp (setup.py): finished with status 'done'\n",
      "  Created wheel for pytsp: filename=pytsp-0.2.7-py2.py3-none-any.whl size=16528 sha256=f156e91deb8c811fe91d6e0348e2bc93e270e9bd299076a007878fe5fc59e54e\n",
      "  Stored in directory: c:\\users\\nandita\\appdata\\local\\pip\\cache\\wheels\\3f\\dd\\25\\be75f6cd73fb05094d745bd18447c188b9b4924e8ab1afedc0\n",
      "Successfully built pytsp\n",
      "Installing collected packages: pytsp\n",
      "Successfully installed pytsp-0.2.7\n"
     ]
    }
   ],
   "source": [
    "!pip install pytsp"
   ]
  },
  {
   "cell_type": "code",
   "execution_count": 3,
   "id": "b2efacf8",
   "metadata": {},
   "outputs": [],
   "source": [
    "import christofides_algo"
   ]
  },
  {
   "cell_type": "code",
   "execution_count": null,
   "id": "0db6dbdc",
   "metadata": {},
   "outputs": [],
   "source": []
  }
 ],
 "metadata": {
  "kernelspec": {
   "display_name": "Python 3",
   "language": "python",
   "name": "python3"
  },
  "language_info": {
   "codemirror_mode": {
    "name": "ipython",
    "version": 3
   },
   "file_extension": ".py",
   "mimetype": "text/x-python",
   "name": "python",
   "nbconvert_exporter": "python",
   "pygments_lexer": "ipython3",
   "version": "3.8.8"
  }
 },
 "nbformat": 4,
 "nbformat_minor": 5
}
