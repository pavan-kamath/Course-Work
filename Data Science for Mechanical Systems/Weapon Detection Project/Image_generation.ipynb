{
 "cells": [
  {
   "cell_type": "code",
   "execution_count": 1,
   "id": "ea7d5070",
   "metadata": {},
   "outputs": [],
   "source": [
    "from os import path, mkdir, makedirs\n",
    "from PIL import Image\n",
    "import pandas as pd\n",
    "import numpy as np\n",
    "from tqdm.notebook import tqdm\n",
    "import concurrent.futures\n",
    "import os\n",
    "import threading\n",
    "import random"
   ]
  },
  {
   "cell_type": "code",
   "execution_count": 2,
   "id": "daa3407a",
   "metadata": {},
   "outputs": [],
   "source": [
    "output_folder = \"output/a\"\n",
    "if not path.exists(output_folder):\n",
    "    os.makedirs(output_folder)\n",
    "output_folder = \"output/b\"\n",
    "if not path.exists(output_folder):\n",
    "    os.makedirs(output_folder)\n",
    "output_folder = \"output/c\"\n",
    "if not path.exists(output_folder):\n",
    "    os.makedirs(output_folder)\n",
    "output_folder = \"output/d\"\n",
    "if not path.exists(output_folder):\n",
    "    os.makedirs(output_folder)"
   ]
  },
  {
   "cell_type": "markdown",
   "id": "ccc52980",
   "metadata": {},
   "source": [
    "backgrounds = [\"countryside\", \"desert\", \"forest\", \"glacial\",\"savannah\",\"sandshore\",\"beach\",\"forest_night\"]\n",
    "characters = [\"mage\", \"warrior\", \"pirate\", \"monster\", \"toadking\"]\n",
    "objects = [\"none\", \"barrel\", \"anchor\", \"axe\", \"bomb\", \"key\", \"chest\", \"bananas\", \"cupcake\", \"donut\", \"heart\",]"
   ]
  },
  {
   "cell_type": "code",
   "execution_count": 3,
   "id": "91d43632",
   "metadata": {},
   "outputs": [],
   "source": [
    "police_options = ['equipped_p','unarmed_p']\n",
    "civilian_options = ['equipped_c','unarmed_c']"
   ]
  },
  {
   "cell_type": "code",
   "execution_count": 4,
   "id": "609d4c0c",
   "metadata": {},
   "outputs": [],
   "source": [
    "backgrounds_count = 0\n",
    "equipped_p_count = 0\n",
    "unarmed_p_count = 0\n",
    "equipped_c_count = 0\n",
    "unarmed_c_count = 0\n",
    "for root, dirs, files in os.walk(\".\", topdown=False):\n",
    "    for name in files:\n",
    "        #print(os.path.join(root, name))\n",
    "        if \"backgrounds\" in os.path.join(root, name):\n",
    "            backgrounds_count += 1\n",
    "        if \"equipped_c\" in os.path.join(root, name):\n",
    "            equipped_c_count += 1\n",
    "        if \"unarmed_c\" in os.path.join(root, name):\n",
    "            unarmed_c_count += 1\n",
    "        if \"equipped_p\" in os.path.join(root, name):\n",
    "            equipped_p_count += 1\n",
    "        if \"unarmed_p\" in os.path.join(root, name):\n",
    "            unarmed_p_count += 1\n",
    "terrorist_count = equipped_c_count + unarmed_c_count\n",
    "police_count = equipped_p_count + unarmed_p_count"
   ]
  },
  {
   "cell_type": "code",
   "execution_count": 8,
   "id": "941c65b4",
   "metadata": {},
   "outputs": [],
   "source": [
    "def generate_image(classes, background_file_name, police_file_name, civilian_file_name, file_name):\n",
    "    \"\"\"Generate image with given background, given character and given object and save it with the given file name\n",
    "\n",
    "    Args:\n",
    "        background (str): background name\n",
    "        character (str): character name\n",
    "        object (str): object name\n",
    "        file_name (str): file name\n",
    "    \"\"\"\n",
    "    background_file = path.join(\"backgrounds\", background_file_name)\n",
    "    background_image = Image.open(background_file)\n",
    "    background_image = background_image.resize((1920,1080))\n",
    "\n",
    "    #Create character\n",
    "    police_character_file = path.join(\"characters/police_chars\", police_file_name)\n",
    "    police_character_image = Image.open(police_character_file)\n",
    "    police_character_image = police_character_image.resize((int(police_character_image.size[0]/3),int(police_character_image.size[1]/3)))\n",
    "    police_character_coordinates = (int(1920/2-police_character_image.width*1.6), int(1080-police_character_image.height*1.1)) #x, y\n",
    "    civilian_character_file = path.join(\"characters/civilian_chars\", civilian_file_name)\n",
    "    civilian_character_image = Image.open(civilian_character_file)\n",
    "    civilian_character_image = civilian_character_image.resize((int(civilian_character_image.size[0]/3),int(civilian_character_image.size[1]/3)))\n",
    "    civilian_character_coordinates = (int(1920/2+civilian_character_image.width*1.6), int(1080-civilian_character_image.height)) #x, y\n",
    "    background_image.paste(police_character_image, police_character_coordinates, mask=police_character_image)\n",
    "    background_image.paste(civilian_character_image, civilian_character_coordinates, mask=civilian_character_image)\n",
    "    background_image.show()\n",
    "    output_file = path.join(\"output/\"+classes, f\"{file_name}\")\n",
    "    background_image.save(output_file)\n",
    "\n",
    "def generate_all_imgs():\n",
    "    \"\"\"Generate all possible combination of images\n",
    "    \"\"\"\n",
    "    num = 0\n",
    "    df = pd.DataFrame(columns = [\"background\", \"character\", \"object\", \"generated image\"])\n",
    "    for background in backgrounds:\n",
    "        for character in characters:\n",
    "            for object in objects:\n",
    "                generate_image(background, character, object, f\"generated{num}\")\n",
    "                data = [background, character, object, f\"generated{num}\"]\n",
    "                s = pd.Series(data, index=df.columns)\n",
    "                df = df.append(s, ignore_index=True)\n",
    "                num += 1\n",
    "    df.to_csv('data.csv', index=False)\n",
    "\n",
    "def generate_random_imgs(total_imgs,num):\n",
    "    \"\"\"Generates a given number of random images according to predefined probabilities\n",
    "\n",
    "    Args:\n",
    "        total_imgs (int): total number of images to generate\n",
    "    \"\"\"\n",
    "    df = pd.DataFrame(columns = [\"image\", \"class\", \"civilian_present?\", \"civilian_armed?\", \"police_present?\",\"police_armed?\", \"action\"])\n",
    "    for img in tqdm(range(num, num+total_imgs)):\n",
    "        background_character_number = random.randint(0,backgrounds_count-1)\n",
    "        background_file_name = \"background\" + str(background_character_number) + \".png\"\n",
    "        police_option = random.choice(police_options)\n",
    "        police_character_number = random.randint(0,globals()['%s_count'% police_option]-1)\n",
    "        police_file_name = police_option + \"/\" + police_option + \"_\" + str(police_character_number) + \".png\"\n",
    "        civilian_option = random.choice(civilian_options)\n",
    "        #rint(civilian_option)\n",
    "        civilian_character_number = random.randint(0,globals()['%s_count'% civilian_option]-1)\n",
    "        civilian_file_name = civilian_option + \"/\" + civilian_option + \"_\" + str(civilian_character_number) + \".png\"\n",
    "        \n",
    "        civilian_armed = 1 if civilian_option == \"equipped_c\" else 0\n",
    "        police_armed = 1 if police_option == \"equipped_p\" else 0\n",
    "        if civilian_armed==1 and police_armed==1:\n",
    "            classes = \"a\"\n",
    "        if civilian_armed==1 and police_armed==0:\n",
    "            classes = \"b\" \n",
    "        if civilian_armed==0 and police_armed==1:\n",
    "            classes = \"c\" \n",
    "        if civilian_armed==0 and police_armed==0:\n",
    "            classes = \"d\"\n",
    "        \n",
    "        generate_image(classes, background_file_name, police_file_name, civilian_file_name, f\"img{img}.png\")\n",
    "        \n",
    "        data = [f\"img{img}.png\",classes, 1,civilian_armed,1,police_armed,\"TBD\"]\n",
    "        s = pd.Series(data, index=df.columns)\n",
    "        df = df.append(s, ignore_index=True)\n",
    "\n",
    "    df.to_csv('data' + str(num)+ '.csv', index=False)"
   ]
  },
  {
   "cell_type": "code",
   "execution_count": 17,
   "id": "660f82fa",
   "metadata": {},
   "outputs": [
    {
     "data": {
      "application/vnd.jupyter.widget-view+json": {
       "model_id": "47133889087648cc9ad72997ba6cba4c",
       "version_major": 2,
       "version_minor": 0
      },
      "text/plain": [
       "  0%|          | 0/1000 [00:00<?, ?it/s]"
      ]
     },
     "metadata": {},
     "output_type": "display_data"
    },
    {
     "data": {
      "application/vnd.jupyter.widget-view+json": {
       "model_id": "e2a90942ca6f49d58681fd9f180af697",
       "version_major": 2,
       "version_minor": 0
      },
      "text/plain": [
       "  0%|          | 0/1000 [00:00<?, ?it/s]"
      ]
     },
     "metadata": {},
     "output_type": "display_data"
    },
    {
     "data": {
      "application/vnd.jupyter.widget-view+json": {
       "model_id": "cb66d48c086c4440bc2515468627dd96",
       "version_major": 2,
       "version_minor": 0
      },
      "text/plain": [
       "  0%|          | 0/1000 [00:00<?, ?it/s]"
      ]
     },
     "metadata": {},
     "output_type": "display_data"
    },
    {
     "data": {
      "application/vnd.jupyter.widget-view+json": {
       "model_id": "dc4d470bfa674287ae453d571706407a",
       "version_major": 2,
       "version_minor": 0
      },
      "text/plain": [
       "  0%|          | 0/1000 [00:00<?, ?it/s]"
      ]
     },
     "metadata": {},
     "output_type": "display_data"
    },
    {
     "data": {
      "application/vnd.jupyter.widget-view+json": {
       "model_id": "bd6bdedfce6b4f68826a024a542c5399",
       "version_major": 2,
       "version_minor": 0
      },
      "text/plain": [
       "  0%|          | 0/1000 [00:00<?, ?it/s]"
      ]
     },
     "metadata": {},
     "output_type": "display_data"
    },
    {
     "data": {
      "application/vnd.jupyter.widget-view+json": {
       "model_id": "a15e19446fce4b6ab848ee9bbcd1a811",
       "version_major": 2,
       "version_minor": 0
      },
      "text/plain": [
       "  0%|          | 0/1000 [00:00<?, ?it/s]"
      ]
     },
     "metadata": {},
     "output_type": "display_data"
    },
    {
     "data": {
      "application/vnd.jupyter.widget-view+json": {
       "model_id": "0ef8933cddc745e6b50785c467e866aa",
       "version_major": 2,
       "version_minor": 0
      },
      "text/plain": [
       "  0%|          | 0/1000 [00:00<?, ?it/s]"
      ]
     },
     "metadata": {},
     "output_type": "display_data"
    },
    {
     "data": {
      "application/vnd.jupyter.widget-view+json": {
       "model_id": "7dfea63011284c3895e0c104720a2579",
       "version_major": 2,
       "version_minor": 0
      },
      "text/plain": [
       "  0%|          | 0/1000 [00:00<?, ?it/s]"
      ]
     },
     "metadata": {},
     "output_type": "display_data"
    },
    {
     "data": {
      "application/vnd.jupyter.widget-view+json": {
       "model_id": "a13f67b9c22347efa63795f6954a8df2",
       "version_major": 2,
       "version_minor": 0
      },
      "text/plain": [
       "  0%|          | 0/1000 [00:00<?, ?it/s]"
      ]
     },
     "metadata": {},
     "output_type": "display_data"
    },
    {
     "data": {
      "application/vnd.jupyter.widget-view+json": {
       "model_id": "ec8c284e12be492a993db00d44054555",
       "version_major": 2,
       "version_minor": 0
      },
      "text/plain": [
       "  0%|          | 0/1000 [00:00<?, ?it/s]"
      ]
     },
     "metadata": {},
     "output_type": "display_data"
    },
    {
     "data": {
      "application/vnd.jupyter.widget-view+json": {
       "model_id": "eaa7b1c535a8468a9da78a8b65fc176d",
       "version_major": 2,
       "version_minor": 0
      },
      "text/plain": [
       "  0%|          | 0/1000 [00:00<?, ?it/s]"
      ]
     },
     "metadata": {},
     "output_type": "display_data"
    },
    {
     "data": {
      "application/vnd.jupyter.widget-view+json": {
       "model_id": "a8d15663c0184fff9fce10154677abaf",
       "version_major": 2,
       "version_minor": 0
      },
      "text/plain": [
       "  0%|          | 0/1000 [00:00<?, ?it/s]"
      ]
     },
     "metadata": {},
     "output_type": "display_data"
    },
    {
     "data": {
      "application/vnd.jupyter.widget-view+json": {
       "model_id": "0d891b3457f34aeab52abb794e650dd1",
       "version_major": 2,
       "version_minor": 0
      },
      "text/plain": [
       "  0%|          | 0/1000 [00:00<?, ?it/s]"
      ]
     },
     "metadata": {},
     "output_type": "display_data"
    },
    {
     "data": {
      "application/vnd.jupyter.widget-view+json": {
       "model_id": "e3e1efde1a6842768491f20cc3cd852b",
       "version_major": 2,
       "version_minor": 0
      },
      "text/plain": [
       "  0%|          | 0/1000 [00:00<?, ?it/s]"
      ]
     },
     "metadata": {},
     "output_type": "display_data"
    },
    {
     "data": {
      "application/vnd.jupyter.widget-view+json": {
       "model_id": "047ca3554e764e23a6a769f6ddb3ba53",
       "version_major": 2,
       "version_minor": 0
      },
      "text/plain": [
       "  0%|          | 0/1000 [00:00<?, ?it/s]"
      ]
     },
     "metadata": {},
     "output_type": "display_data"
    },
    {
     "data": {
      "application/vnd.jupyter.widget-view+json": {
       "model_id": "e60ee238e5fb4578afcf39b4bf2a83a3",
       "version_major": 2,
       "version_minor": 0
      },
      "text/plain": [
       "  0%|          | 0/1000 [00:00<?, ?it/s]"
      ]
     },
     "metadata": {},
     "output_type": "display_data"
    },
    {
     "data": {
      "application/vnd.jupyter.widget-view+json": {
       "model_id": "e39df2fb37ba471f9edc4c75651d7e6c",
       "version_major": 2,
       "version_minor": 0
      },
      "text/plain": [
       "  0%|          | 0/1000 [00:00<?, ?it/s]"
      ]
     },
     "metadata": {},
     "output_type": "display_data"
    },
    {
     "data": {
      "application/vnd.jupyter.widget-view+json": {
       "model_id": "2e9e0a9b5977402ba045065f1ffafa45",
       "version_major": 2,
       "version_minor": 0
      },
      "text/plain": [
       "  0%|          | 0/1000 [00:00<?, ?it/s]"
      ]
     },
     "metadata": {},
     "output_type": "display_data"
    },
    {
     "data": {
      "application/vnd.jupyter.widget-view+json": {
       "model_id": "2270929f35f44b9fa3115d4ad057eb9b",
       "version_major": 2,
       "version_minor": 0
      },
      "text/plain": [
       "  0%|          | 0/1000 [00:00<?, ?it/s]"
      ]
     },
     "metadata": {},
     "output_type": "display_data"
    },
    {
     "data": {
      "application/vnd.jupyter.widget-view+json": {
       "model_id": "fcc696f390804bbfaada2dbb7bfe102e",
       "version_major": 2,
       "version_minor": 0
      },
      "text/plain": [
       "  0%|          | 0/1000 [00:00<?, ?it/s]"
      ]
     },
     "metadata": {},
     "output_type": "display_data"
    },
    {
     "name": "stdout",
     "output_type": "stream",
     "text": [
      " Yeahhhhhh bitch! Done!\n"
     ]
    }
   ],
   "source": [
    "if __name__ == \"__main__\":\n",
    "    #generate_all_imgs()\n",
    "    t1 = threading.Thread(target=generate_random_imgs, args=(1000,0))\n",
    "    t2 = threading.Thread(target=generate_random_imgs, args=(1000,1000))\n",
    "    t3 = threading.Thread(target=generate_random_imgs, args=(1000,2000))\n",
    "    t4 = threading.Thread(target=generate_random_imgs, args=(1000,3000))\n",
    "    t5 = threading.Thread(target=generate_random_imgs, args=(1000,4000))\n",
    "    t6 = threading.Thread(target=generate_random_imgs, args=(1000,5000))\n",
    "    t7 = threading.Thread(target=generate_random_imgs, args=(1000,6000))\n",
    "    t8 = threading.Thread(target=generate_random_imgs, args=(1000,7000))\n",
    "    t9 = threading.Thread(target=generate_random_imgs, args=(1000,8000))\n",
    "    t10 = threading.Thread(target=generate_random_imgs, args=(1000,9000))\n",
    "    t11 = threading.Thread(target=generate_random_imgs, args=(1000,10000))\n",
    "    t12 = threading.Thread(target=generate_random_imgs, args=(1000,11000))\n",
    "    t13 = threading.Thread(target=generate_random_imgs, args=(1000,12000))\n",
    "    t14 = threading.Thread(target=generate_random_imgs, args=(1000,13000))\n",
    "    t15 = threading.Thread(target=generate_random_imgs, args=(1000,14000))\n",
    "    t16 = threading.Thread(target=generate_random_imgs, args=(1000,15000))\n",
    "    t17 = threading.Thread(target=generate_random_imgs, args=(1000,16000))\n",
    "    t18 = threading.Thread(target=generate_random_imgs, args=(1000,17000))\n",
    "    t19 = threading.Thread(target=generate_random_imgs, args=(1000,18000))\n",
    "    t20 = threading.Thread(target=generate_random_imgs, args=(1000,19000))\n",
    "    # starting threads\n",
    "    t1.start()\n",
    "    t2.start()\n",
    "    t3.start()\n",
    "    t4.start()\n",
    "    t5.start()\n",
    "    t6.start()\n",
    "    t7.start()\n",
    "    t8.start()\n",
    "    t9.start()\n",
    "    t10.start()\n",
    "    t11.start()\n",
    "    t12.start()\n",
    "    t13.start()\n",
    "    t14.start()\n",
    "    t15.start()\n",
    "    t16.start()\n",
    "    t17.start()\n",
    "    t18.start()\n",
    "    t19.start()\n",
    "    t20.start()\n",
    "  \n",
    "    # wait until threads are completely executed\n",
    "    t1.join()\n",
    "    t2.join()\n",
    "    t3.join()\n",
    "    t4.join()\n",
    "    t5.join()\n",
    "    t6.join()\n",
    "    t7.join()\n",
    "    t8.join()\n",
    "    t9.join()\n",
    "    t10.join()\n",
    "    t11.join()\n",
    "    t12.join()\n",
    "    t13.join()\n",
    "    t14.join()\n",
    "    t15.join()\n",
    "    t16.join()\n",
    "    t17.join()\n",
    "    t18.join()\n",
    "    t19.join()\n",
    "    t20.join()\n",
    "  \n",
    "    # all threads completely executed\n",
    "    print(\"Done!\")"
   ]
  },
  {
   "cell_type": "code",
   "execution_count": 97,
   "id": "06aac34b",
   "metadata": {},
   "outputs": [],
   "source": [
    "def main():\n",
    "   \n",
    "    folder = \"equipped_c\"\n",
    "    for count, filename in enumerate(os.listdir(folder)):\n",
    "        dst = f\"equipped_c_{str(count)}.png\"\n",
    "        src =f\"{folder}/{filename}\"  # foldername/filename, if .py file is outside folder\n",
    "        dst =f\"{folder}/{dst}\"\n",
    "         \n",
    "        # rename() function will\n",
    "        # rename all the files\n",
    "        os.rename(src, dst)\n",
    " "
   ]
  },
  {
   "cell_type": "code",
   "execution_count": 98,
   "id": "2d527cb3",
   "metadata": {},
   "outputs": [],
   "source": [
    "main()"
   ]
  },
  {
   "cell_type": "code",
   "execution_count": 83,
   "id": "fb09764f",
   "metadata": {},
   "outputs": [],
   "source": [
    "background_file = path.join(\"backgrounds\", \"background1.png\")\n",
    "background_image = Image.open(background_file)\n",
    "background_image = background_image.resize((1920,1080))\n",
    "\n",
    "#Create character\n",
    "police_character_file = path.join(\"characters/police_chars\", \"equipped_p/equipped_p_1.png\")\n",
    "police_character_image = Image.open(police_character_file)\n",
    "police_character_image = police_character_image.resize((int(police_character_image.size[0]/3),int(police_character_image.size[1]/3)))\n",
    "police_character_coordinates = (int(1920/2-police_character_image.width*1.6), int(1000-police_character_image.height)) #x, y\n",
    "background_image.paste(police_character_image, police_character_coordinates, mask=police_character_image)"
   ]
  },
  {
   "cell_type": "code",
   "execution_count": 8,
   "id": "e0bc1f12",
   "metadata": {},
   "outputs": [],
   "source": [
    "df = pd.DataFrame(columns = [\"image\", \"civilian_present?\", \"civilian_armed?\", \"police_present?\",\"police_armed?\", \"action\"])\n",
    "for root, dirs, files in os.walk(\".\", topdown=False):\n",
    "    for name in files:\n",
    "        if \".csv\" in name:\n",
    "            df_new = pd.read_csv(name)\n",
    "            #print(df_new)\n",
    "            df = df.append(df_new)\n",
    "df.to_csv(\"data.csv\")"
   ]
  },
  {
   "cell_type": "code",
   "execution_count": 18,
   "id": "415a1bc1",
   "metadata": {},
   "outputs": [
    {
     "name": "stdout",
     "output_type": "stream",
     "text": [
      "499.5 0\n",
      "499.5 1000\n",
      "499.5 2000\n",
      "499.5 3000\n",
      "499.5 4000\n",
      "499.5 5000\n",
      "499.5 6000\n",
      "499.5 7000\n",
      "499.5 8000\n",
      "499.5 9000\n",
      "499.5 10000\n",
      "499.5 11000\n",
      "499.5 12000\n",
      "499.5 13000\n",
      "499.5 14000\n",
      "499.5 15000\n",
      "499.5 16000\n",
      "499.5 17000\n",
      "499.5 18000\n",
      "499.5 19000\n",
      "All threads suucessfully executed\n"
     ]
    }
   ],
   "source": [
    "#generate_all_imgs()\n",
    "for i in range(1,number_of_threads+1):\n",
    "    globals()['t%s'% str(i)] = threading.Thread(target=print_variable, args=(i,1000,(i-1)*1000))\n",
    "# starting threads\n",
    "for i in range(1,number_of_threads+1):\n",
    "    globals()['t%s'% str(i)].start()\n",
    "# wait until threads are completely executed\n",
    "for i in range(1,number_of_threads+1):\n",
    "    globals()['t%s'% str(i)].join()\n",
    "print(\"All threads suucessfully executed\")\n",
    "# starting threads"
   ]
  }
 ],
 "metadata": {
  "kernelspec": {
   "display_name": "Python 3 (ipykernel)",
   "language": "python",
   "name": "python3"
  },
  "language_info": {
   "codemirror_mode": {
    "name": "ipython",
    "version": 3
   },
   "file_extension": ".py",
   "mimetype": "text/x-python",
   "name": "python",
   "nbconvert_exporter": "python",
   "pygments_lexer": "ipython3",
   "version": "3.8.12"
  }
 },
 "nbformat": 4,
 "nbformat_minor": 5
}
